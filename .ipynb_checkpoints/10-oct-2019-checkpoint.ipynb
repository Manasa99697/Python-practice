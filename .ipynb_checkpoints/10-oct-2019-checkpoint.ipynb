{
 "cells": [
  {
   "cell_type": "markdown",
   "metadata": {},
   "source": [
    "# DAY OBJECTIVES:\n",
    "\n",
    "- ENCRYPTION AND DECRYPTION TECHNIQUE"
   ]
  },
  {
   "cell_type": "code",
   "execution_count": 5,
   "metadata": {},
   "outputs": [
    {
     "data": {
      "text/plain": [
       "{'A': 'E',\n",
       " 'B': 'F',\n",
       " 'C': 'G',\n",
       " 'D': 'H',\n",
       " 'E': 'I',\n",
       " 'F': 'J',\n",
       " 'G': 'K',\n",
       " 'H': 'L',\n",
       " 'I': 'M',\n",
       " 'J': 'N',\n",
       " 'K': 'O',\n",
       " 'L': 'P',\n",
       " 'M': 'Q',\n",
       " 'N': 'R',\n",
       " 'O': 'S',\n",
       " 'P': 'T',\n",
       " 'Q': 'U',\n",
       " 'R': 'V',\n",
       " 'S': 'W',\n",
       " 'T': 'X',\n",
       " 'U': 'Y',\n",
       " 'V': 'Z',\n",
       " 'W': 'A',\n",
       " 'X': 'B',\n",
       " 'Y': 'C',\n",
       " 'Z': 'D'}"
      ]
     },
     "execution_count": 5,
     "metadata": {},
     "output_type": "execute_result"
    }
   ],
   "source": [
    "encdec = {}\n",
    "for i in range(65,91):\n",
    "    if i>86:\n",
    "        encdec[chr(i)] = chr(i-22)\n",
    "    else:\n",
    "        encdec[chr(i)] = chr(i+4)\n",
    "encdec"
   ]
  },
  {
   "cell_type": "code",
   "execution_count": 7,
   "metadata": {},
   "outputs": [
    {
     "name": "stdout",
     "output_type": "stream",
     "text": [
      "MANASA QEREWE\n"
     ]
    }
   ],
   "source": [
    "omsg= \"MANASA\"\n",
    "encmsg=''\n",
    "for i in omsg:\n",
    "    encmsg+=encdec[i]\n",
    "print(omsg,encmsg)"
   ]
  },
  {
   "cell_type": "code",
   "execution_count": 8,
   "metadata": {},
   "outputs": [],
   "source": [
    "decdec = {}\n",
    "for i in range(65,91):\n",
    "    if i>86:\n",
    "        decdec[chr(i-22)]=chr(i)\n",
    "    else:\n",
    "        decdec[chr(i+4)]=chr(i)"
   ]
  },
  {
   "cell_type": "code",
   "execution_count": 9,
   "metadata": {},
   "outputs": [
    {
     "data": {
      "text/plain": [
       "{'E': 'A',\n",
       " 'F': 'B',\n",
       " 'G': 'C',\n",
       " 'H': 'D',\n",
       " 'I': 'E',\n",
       " 'J': 'F',\n",
       " 'K': 'G',\n",
       " 'L': 'H',\n",
       " 'M': 'I',\n",
       " 'N': 'J',\n",
       " 'O': 'K',\n",
       " 'P': 'L',\n",
       " 'Q': 'M',\n",
       " 'R': 'N',\n",
       " 'S': 'O',\n",
       " 'T': 'P',\n",
       " 'U': 'Q',\n",
       " 'V': 'R',\n",
       " 'W': 'S',\n",
       " 'X': 'T',\n",
       " 'Y': 'U',\n",
       " 'Z': 'V',\n",
       " 'A': 'W',\n",
       " 'B': 'X',\n",
       " 'C': 'Y',\n",
       " 'D': 'Z'}"
      ]
     },
     "execution_count": 9,
     "metadata": {},
     "output_type": "execute_result"
    }
   ],
   "source": [
    "decdec"
   ]
  },
  {
   "cell_type": "code",
   "execution_count": 11,
   "metadata": {},
   "outputs": [],
   "source": [
    "decdic={}\n",
    "for i in range(65,91):\n",
    "    if i<69:\n",
    "        decdic[chr(i)]=chr(i+22)\n",
    "    else:\n",
    "        decdic[chr(i)]=chr(i-4)"
   ]
  },
  {
   "cell_type": "code",
   "execution_count": 12,
   "metadata": {},
   "outputs": [
    {
     "data": {
      "text/plain": [
       "{'A': 'W',\n",
       " 'B': 'X',\n",
       " 'C': 'Y',\n",
       " 'D': 'Z',\n",
       " 'E': 'A',\n",
       " 'F': 'B',\n",
       " 'G': 'C',\n",
       " 'H': 'D',\n",
       " 'I': 'E',\n",
       " 'J': 'F',\n",
       " 'K': 'G',\n",
       " 'L': 'H',\n",
       " 'M': 'I',\n",
       " 'N': 'J',\n",
       " 'O': 'K',\n",
       " 'P': 'L',\n",
       " 'Q': 'M',\n",
       " 'R': 'N',\n",
       " 'S': 'O',\n",
       " 'T': 'P',\n",
       " 'U': 'Q',\n",
       " 'V': 'R',\n",
       " 'W': 'S',\n",
       " 'X': 'T',\n",
       " 'Y': 'U',\n",
       " 'Z': 'V'}"
      ]
     },
     "execution_count": 12,
     "metadata": {},
     "output_type": "execute_result"
    }
   ],
   "source": [
    "decdic"
   ]
  },
  {
   "cell_type": "code",
   "execution_count": 10,
   "metadata": {},
   "outputs": [
    {
     "data": {
      "text/plain": [
       "22"
      ]
     },
     "execution_count": 10,
     "metadata": {},
     "output_type": "execute_result"
    }
   ],
   "source": [
    "87-65\n"
   ]
  },
  {
   "cell_type": "code",
   "execution_count": 13,
   "metadata": {},
   "outputs": [
    {
     "name": "stdout",
     "output_type": "stream",
     "text": [
      "MANASA QEREWE MANASA\n"
     ]
    }
   ],
   "source": [
    "decmsg=''\n",
    "for i in encmsg:\n",
    "    decmsg+=decdic[i]\n",
    "print(omsg,encmsg,decmsg)"
   ]
  },
  {
   "cell_type": "code",
   "execution_count": 17,
   "metadata": {},
   "outputs": [
    {
     "data": {
      "text/plain": [
       "{'a': 'e',\n",
       " 'b': 'f',\n",
       " 'c': 'g',\n",
       " 'd': 'h',\n",
       " 'e': 'i',\n",
       " 'f': 'j',\n",
       " 'g': 'k',\n",
       " 'h': 'l',\n",
       " 'i': 'm',\n",
       " 'j': 'n',\n",
       " 'k': 'o',\n",
       " 'l': 'p',\n",
       " 'm': 'q',\n",
       " 'n': 'r',\n",
       " 'o': 's',\n",
       " 'p': 't',\n",
       " 'q': 'u',\n",
       " 'r': 'v',\n",
       " 's': 'w',\n",
       " 't': 'x',\n",
       " 'u': 'y',\n",
       " 'v': 'z',\n",
       " 'w': 'a',\n",
       " 'x': 'b',\n",
       " 'y': 'c',\n",
       " 'z': 'd'}"
      ]
     },
     "execution_count": 17,
     "metadata": {},
     "output_type": "execute_result"
    }
   ],
   "source": [
    "enc={}\n",
    "for i in range(97,123):\n",
    "    if i>118:\n",
    "        enc[chr(i)]=chr(i-22)\n",
    "    else:\n",
    "        enc[chr(i)]=chr(i+4)\n",
    "enc   "
   ]
  },
  {
   "cell_type": "code",
   "execution_count": 14,
   "metadata": {},
   "outputs": [
    {
     "data": {
      "text/plain": [
       "122"
      ]
     },
     "execution_count": 14,
     "metadata": {},
     "output_type": "execute_result"
    }
   ],
   "source": [
    "ord('z')"
   ]
  },
  {
   "cell_type": "code",
   "execution_count": 15,
   "metadata": {},
   "outputs": [
    {
     "data": {
      "text/plain": [
       "119"
      ]
     },
     "execution_count": 15,
     "metadata": {},
     "output_type": "execute_result"
    }
   ],
   "source": [
    "ord('w')"
   ]
  },
  {
   "cell_type": "code",
   "execution_count": 18,
   "metadata": {},
   "outputs": [
    {
     "data": {
      "text/plain": [
       "{'e': 'a',\n",
       " 'f': 'b',\n",
       " 'g': 'c',\n",
       " 'h': 'd',\n",
       " 'i': 'e',\n",
       " 'j': 'f',\n",
       " 'k': 'g',\n",
       " 'l': 'h',\n",
       " 'm': 'i',\n",
       " 'n': 'j',\n",
       " 'o': 'k',\n",
       " 'p': 'l',\n",
       " 'q': 'm',\n",
       " 'r': 'n',\n",
       " 's': 'o',\n",
       " 't': 'p',\n",
       " 'u': 'q',\n",
       " 'v': 'r',\n",
       " 'w': 's',\n",
       " 'x': 't',\n",
       " 'y': 'u',\n",
       " 'z': 'v',\n",
       " 'a': 'w',\n",
       " 'b': 'x',\n",
       " 'c': 'y',\n",
       " 'd': 'z'}"
      ]
     },
     "execution_count": 18,
     "metadata": {},
     "output_type": "execute_result"
    }
   ],
   "source": [
    "dec={}\n",
    "for i in range(97,123):\n",
    "    if i>118:\n",
    "        dec[chr(i-22)]=chr(i)\n",
    "    else:\n",
    "        dec[chr(i+4)]=chr(i)\n",
    "dec"
   ]
  },
  {
   "cell_type": "code",
   "execution_count": 19,
   "metadata": {},
   "outputs": [
    {
     "name": "stdout",
     "output_type": "stream",
     "text": [
      "hai lem\n"
     ]
    }
   ],
   "source": [
    "msg=\"hai\"\n",
    "en=''\n",
    "for i in msg:\n",
    "    en+=enc[i]\n",
    "print(msg,en)"
   ]
  },
  {
   "cell_type": "code",
   "execution_count": 22,
   "metadata": {},
   "outputs": [
    {
     "name": "stdout",
     "output_type": "stream",
     "text": [
      "hai lem hai\n"
     ]
    }
   ],
   "source": [
    "de=''\n",
    "for i in en:\n",
    "    de+=dec[i]\n",
    "print(msg,en,de)"
   ]
  },
  {
   "cell_type": "code",
   "execution_count": 24,
   "metadata": {},
   "outputs": [
    {
     "name": "stdout",
     "output_type": "stream",
     "text": [
      "hello dahhk\n"
     ]
    }
   ],
   "source": [
    "ms=\"hello\"\n",
    "d=''\n",
    "for i in ms:\n",
    "    d+=dec[i]\n",
    "print(ms,d)"
   ]
  },
  {
   "cell_type": "code",
   "execution_count": 25,
   "metadata": {},
   "outputs": [
    {
     "name": "stdout",
     "output_type": "stream",
     "text": [
      "0: a\n",
      "1: b\n",
      "2: c\n",
      "3: d\n",
      "4: e\n"
     ]
    }
   ],
   "source": [
    "my_list = ['a', 'b', 'c', 'd', 'e']\n",
    "\n",
    "for index, value in enumerate(my_list):\n",
    "    print('{0}: {1}'.format(index, value))\n"
   ]
  },
  {
   "cell_type": "code",
   "execution_count": 48,
   "metadata": {},
   "outputs": [
    {
     "data": {
      "text/plain": [
       "{'0': '5',\n",
       " '1': '6',\n",
       " '2': '7',\n",
       " '3': '8',\n",
       " '4': '9',\n",
       " '5': '0',\n",
       " '6': '1',\n",
       " '7': '2',\n",
       " '8': '3',\n",
       " '9': '4'}"
      ]
     },
     "execution_count": 48,
     "metadata": {},
     "output_type": "execute_result"
    }
   ],
   "source": [
    "numenc={}\n",
    "for i in range(0,10):\n",
    "    if i>4:\n",
    "        numenc[str(i)]=str(i-5)\n",
    "    else:\n",
    "        numenc[str(i)]=str(i+5)\n",
    "numenc"
   ]
  },
  {
   "cell_type": "code",
   "execution_count": 39,
   "metadata": {},
   "outputs": [
    {
     "data": {
      "text/plain": [
       "{'0': '5',\n",
       " '1': '6',\n",
       " '2': '7',\n",
       " '3': '8',\n",
       " '4': '9',\n",
       " '5': '0',\n",
       " '6': '1',\n",
       " '7': '2',\n",
       " '8': '3',\n",
       " '9': '4'}"
      ]
     },
     "execution_count": 39,
     "metadata": {},
     "output_type": "execute_result"
    }
   ],
   "source": [
    "numdec={}\n",
    "for i in range(0,10):\n",
    "    if i<5:\n",
    "        numdec[str(i)]=str(i+5)\n",
    "    else:\n",
    "        numdec[str(i)]=str(i-5)\n",
    "numdec"
   ]
  },
  {
   "cell_type": "code",
   "execution_count": 40,
   "metadata": {},
   "outputs": [
    {
     "data": {
      "text/plain": [
       "{'5': '0',\n",
       " '6': '1',\n",
       " '7': '2',\n",
       " '8': '3',\n",
       " '9': '4',\n",
       " '0': '5',\n",
       " '1': '6',\n",
       " '2': '7',\n",
       " '3': '8',\n",
       " '4': '9'}"
      ]
     },
     "execution_count": 40,
     "metadata": {},
     "output_type": "execute_result"
    }
   ],
   "source": [
    "nodec={}\n",
    "for i in range(0,10):\n",
    "    if i>4:\n",
    "        nodec[str(i-5)]=str(i)\n",
    "    else:\n",
    "        nodec[str(i+5)]=str(i)\n",
    "nodec"
   ]
  },
  {
   "cell_type": "code",
   "execution_count": 49,
   "metadata": {},
   "outputs": [
    {
     "name": "stdout",
     "output_type": "stream",
     "text": [
      "19378913091\n"
     ]
    }
   ],
   "source": [
    "n='64823468546'\n",
    "e=''\n",
    "for i in n:\n",
    "    e+=numenc[i]\n",
    "print(e)"
   ]
  },
  {
   "cell_type": "code",
   "execution_count": 50,
   "metadata": {},
   "outputs": [
    {
     "name": "stdout",
     "output_type": "stream",
     "text": [
      "64823468546 19378913091 64823468546\n"
     ]
    }
   ],
   "source": [
    "d=''\n",
    "for i in e:\n",
    "    d+=numdec[i]\n",
    "print(n,e,d)"
   ]
  },
  {
   "cell_type": "code",
   "execution_count": 52,
   "metadata": {},
   "outputs": [
    {
     "name": "stdout",
     "output_type": "stream",
     "text": [
      "{'A': 'E', 'B': 'F', 'C': 'G', 'D': 'H', 'E': 'I', 'F': 'J', 'G': 'K', 'H': 'L', 'I': 'M', 'J': 'N', 'K': 'O', 'L': 'P', 'M': 'Q', 'N': 'R', 'O': 'S', 'P': 'T', 'Q': 'U', 'R': 'V', 'S': 'W', 'T': 'X', 'U': 'Y', 'V': 'Z', 'W': 'A', 'X': 'B', 'Y': 'C', 'Z': 'D', 'a': 'e', 'b': 'f', 'c': 'g', 'd': 'h', 'e': 'i', 'f': 'j', 'g': 'k', 'h': 'l', 'i': 'm', 'j': 'n', 'k': 'o', 'l': 'p', 'm': 'q', 'n': 'r', 'o': 's', 'p': 't', 'q': 'u', 'r': 'v', 's': 'w', 't': 'x', 'u': 'y', 'v': 'z', 'w': 'a', 'x': 'b', 'y': 'c', 'z': 'd', '0': '5', '1': '6', '2': '7', '3': '8', '4': '9', '5': '0', '6': '1', '7': '2', '8': '3', '9': '4'}\n"
     ]
    }
   ],
   "source": [
    "enccom={**encdec,**enc,**numenc}\n",
    "deccom={**decdec,**dec,**nodec}\n",
    "print(enccom)"
   ]
  },
  {
   "cell_type": "code",
   "execution_count": 53,
   "metadata": {},
   "outputs": [
    {
     "name": "stdout",
     "output_type": "stream",
     "text": [
      "{'E': 'A', 'F': 'B', 'G': 'C', 'H': 'D', 'I': 'E', 'J': 'F', 'K': 'G', 'L': 'H', 'M': 'I', 'N': 'J', 'O': 'K', 'P': 'L', 'Q': 'M', 'R': 'N', 'S': 'O', 'T': 'P', 'U': 'Q', 'V': 'R', 'W': 'S', 'X': 'T', 'Y': 'U', 'Z': 'V', 'A': 'W', 'B': 'X', 'C': 'Y', 'D': 'Z', 'e': 'a', 'f': 'b', 'g': 'c', 'h': 'd', 'i': 'e', 'j': 'f', 'k': 'g', 'l': 'h', 'm': 'i', 'n': 'j', 'o': 'k', 'p': 'l', 'q': 'm', 'r': 'n', 's': 'o', 't': 'p', 'u': 'q', 'v': 'r', 'w': 's', 'x': 't', 'y': 'u', 'z': 'v', 'a': 'w', 'b': 'x', 'c': 'y', 'd': 'z', '5': '0', '6': '1', '7': '2', '8': '3', '9': '4', '0': '5', '1': '6', '2': '7', '3': '8', '4': '9'}\n"
     ]
    }
   ],
   "source": [
    "print(deccom)"
   ]
  },
  {
   "cell_type": "code",
   "execution_count": null,
   "metadata": {},
   "outputs": [],
   "source": []
  }
 ],
 "metadata": {
  "kernelspec": {
   "display_name": "Python 3",
   "language": "python",
   "name": "python3"
  },
  "language_info": {
   "codemirror_mode": {
    "name": "ipython",
    "version": 3
   },
   "file_extension": ".py",
   "mimetype": "text/x-python",
   "name": "python",
   "nbconvert_exporter": "python",
   "pygments_lexer": "ipython3",
   "version": "3.7.3"
  }
 },
 "nbformat": 4,
 "nbformat_minor": 2
}
