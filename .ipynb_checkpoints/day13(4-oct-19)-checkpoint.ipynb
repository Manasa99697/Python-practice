{
 "cells": [
  {
   "cell_type": "code",
   "execution_count": 5,
   "metadata": {},
   "outputs": [
    {
     "name": "stdout",
     "output_type": "stream",
     "text": [
      "111 111 22 333\n",
      "555\n"
     ]
    }
   ],
   "source": [
    "# SUM OF 3 DIGIT NUMBERS:\n",
    "s=0\n",
    "for i in input().split():\n",
    "    if len(i)==3:\n",
    "        s+=int(i)\n",
    "print(s)"
   ]
  },
  {
   "cell_type": "code",
   "execution_count": 2,
   "metadata": {},
   "outputs": [
    {
     "name": "stdout",
     "output_type": "stream",
     "text": [
      "jj\n",
      "5\n",
      "jjjjjjjjjj\n"
     ]
    }
   ],
   "source": [
    "\n",
    "name=input()\n",
    "n=int(input())\n",
    "print(name*n)"
   ]
  },
  {
   "cell_type": "code",
   "execution_count": 4,
   "metadata": {},
   "outputs": [
    {
     "name": "stdout",
     "output_type": "stream",
     "text": [
      "123\n",
      "3\n",
      "2\n",
      "1\n"
     ]
    }
   ],
   "source": [
    "# STRING OR DIGIT REVERSE:\n",
    "s=input()\n",
    "s=s[::-1]\n",
    "for i in s:\n",
    "    print(i)"
   ]
  },
  {
   "cell_type": "code",
   "execution_count": 8,
   "metadata": {},
   "outputs": [
    {
     "name": "stdout",
     "output_type": "stream",
     "text": [
      "3\n",
      "123456789123\n",
      "25896314702314\n",
      "+9112378945612\n",
      "+91-(+91)-123-78945612\n",
      "+91-(+91)-123-78945612\n",
      "+91-(+91)-123-78945612\n"
     ]
    }
   ],
   "source": [
    "# FORMATTED MOBILE NUMBER:\n",
    "n=int(input())\n",
    "nums=[]\n",
    "for i in range(n):\n",
    "    num=input()\n",
    "    if num.startswith('0'):\n",
    "        nums.append(num[1:])\n",
    "    elif num.startswith('+91'):\n",
    "        nums.append(num[3:])\n",
    "    elif num.startswith('91'):\n",
    "        nums.append(num[2:])\n",
    "    else:\n",
    "        nums.append(num)\n",
    "nums.sort()\n",
    "for i in nums:\n",
    "    print(\"+91-(\"+num[0:3]+\")-\"+num[3:6]+\"-\"+num[6:])"
   ]
  },
  {
   "cell_type": "code",
   "execution_count": 9,
   "metadata": {},
   "outputs": [
    {
     "data": {
      "text/plain": [
       "'2378945612'"
      ]
     },
     "execution_count": 9,
     "metadata": {},
     "output_type": "execute_result"
    }
   ],
   "source": [
    "num=num[-10:]\n",
    "num"
   ]
  },
  {
   "cell_type": "code",
   "execution_count": null,
   "metadata": {},
   "outputs": [],
   "source": []
  }
 ],
 "metadata": {
  "kernelspec": {
   "display_name": "Python 3",
   "language": "python",
   "name": "python3"
  },
  "language_info": {
   "codemirror_mode": {
    "name": "ipython",
    "version": 3
   },
   "file_extension": ".py",
   "mimetype": "text/x-python",
   "name": "python",
   "nbconvert_exporter": "python",
   "pygments_lexer": "ipython3",
   "version": "3.7.3"
  }
 },
 "nbformat": 4,
 "nbformat_minor": 2
}
