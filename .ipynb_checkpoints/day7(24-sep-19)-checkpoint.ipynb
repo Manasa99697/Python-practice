{
 "cells": [
  {
   "cell_type": "code",
   "execution_count": 2,
   "metadata": {},
   "outputs": [
    {
     "name": "stdout",
     "output_type": "stream",
     "text": [
      "enter a no3\n",
      "False\n"
     ]
    }
   ],
   "source": [
    "import mymath\n",
    "n = int(input(\"enter a no\"))\n",
    "print(mymath.iseven(n))"
   ]
  },
  {
   "cell_type": "code",
   "execution_count": 3,
   "metadata": {},
   "outputs": [
    {
     "data": {
      "text/plain": [
       "['__builtins__',\n",
       " '__cached__',\n",
       " '__doc__',\n",
       " '__file__',\n",
       " '__loader__',\n",
       " '__name__',\n",
       " '__package__',\n",
       " '__spec__',\n",
       " 'iseven',\n",
       " 'isodd',\n",
       " 'isprime']"
      ]
     },
     "execution_count": 3,
     "metadata": {},
     "output_type": "execute_result"
    }
   ],
   "source": [
    "dir(mymath)"
   ]
  },
  {
   "cell_type": "code",
   "execution_count": 4,
   "metadata": {},
   "outputs": [
    {
     "name": "stdout",
     "output_type": "stream",
     "text": [
      "enter3\n",
      "True\n"
     ]
    }
   ],
   "source": [
    "import mymath\n",
    "n=int(input(\"enter\"))\n",
    "print(mymath.isprime(n))"
   ]
  },
  {
   "cell_type": "code",
   "execution_count": 5,
   "metadata": {},
   "outputs": [
    {
     "name": "stdout",
     "output_type": "stream",
     "text": [
      "enter6\n",
      "False\n",
      "True\n"
     ]
    }
   ],
   "source": [
    "from mymath import isprime,iseven\n",
    "n=int(input(\"enter\"))\n",
    "print(isprime(n))\n",
    "print(iseven(n))"
   ]
  },
  {
   "cell_type": "code",
   "execution_count": 1,
   "metadata": {},
   "outputs": [
    {
     "name": "stdout",
     "output_type": "stream",
     "text": [
      "enter base 2\n",
      "enter exponent3\n",
      "8\n"
     ]
    }
   ],
   "source": [
    "from mymodules import mymath1 as mm\n",
    "b=int(input(\"enter base \"))\n",
    "e=int(input(\"enter exponent\"))\n",
    "print(mm.power(b,e))"
   ]
  },
  {
   "cell_type": "code",
   "execution_count": 3,
   "metadata": {},
   "outputs": [
    {
     "data": {
      "text/plain": [
       "['__builtins__',\n",
       " '__cached__',\n",
       " '__doc__',\n",
       " '__file__',\n",
       " '__loader__',\n",
       " '__name__',\n",
       " '__package__',\n",
       " '__spec__',\n",
       " 'area_circle',\n",
       " 'power']"
      ]
     },
     "execution_count": 3,
     "metadata": {},
     "output_type": "execute_result"
    }
   ],
   "source": [
    "dir(mm)"
   ]
  },
  {
   "cell_type": "code",
   "execution_count": 9,
   "metadata": {},
   "outputs": [
    {
     "name": "stdout",
     "output_type": "stream",
     "text": [
      "enter base 3\n",
      "9\n"
     ]
    }
   ],
   "source": [
    "from mymodules import mymath1 as mm\n",
    "b=int(input(\"enter base \"))\n",
    "# e=int(input(\"enter exponent\"))\n",
    "print(mm.power(b))"
   ]
  },
  {
   "cell_type": "code",
   "execution_count": 10,
   "metadata": {},
   "outputs": [
    {
     "name": "stdout",
     "output_type": "stream",
     "text": [
      "8\n"
     ]
    }
   ],
   "source": [
    "from mymodules import mymath1 as mm\n",
    "# b=int(input(\"enter base \"))\n",
    "# e=int(input(\"enter exponent\"))\n",
    "print(mm.power(2,3))"
   ]
  },
  {
   "cell_type": "code",
   "execution_count": 5,
   "metadata": {},
   "outputs": [
    {
     "name": "stdout",
     "output_type": "stream",
     "text": [
      "3\n",
      "28.26\n"
     ]
    }
   ],
   "source": [
    "from mymodules import mymath1 as mm\n",
    "r=int(input())\n",
    "print(mm.area_circle(r))"
   ]
  },
  {
   "cell_type": "code",
   "execution_count": null,
   "metadata": {},
   "outputs": [],
   "source": []
  }
 ],
 "metadata": {
  "kernelspec": {
   "display_name": "Python 3",
   "language": "python",
   "name": "python3"
  },
  "language_info": {
   "codemirror_mode": {
    "name": "ipython",
    "version": 3
   },
   "file_extension": ".py",
   "mimetype": "text/x-python",
   "name": "python",
   "nbconvert_exporter": "python",
   "pygments_lexer": "ipython3",
   "version": "3.7.3"
  }
 },
 "nbformat": 4,
 "nbformat_minor": 2
}
