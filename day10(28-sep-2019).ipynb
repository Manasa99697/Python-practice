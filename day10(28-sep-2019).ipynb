{
 "cells": [
  {
   "cell_type": "markdown",
   "metadata": {},
   "source": [
    "# CONTACT APPLICATION:\n",
    "- CREATE contact.txt\n",
    "- read valid name, mobile no, from user then store in contact.txt (before storing perform validation using re)\n",
    "- define function to display all contacts\n",
    "- define function to search a contact"
   ]
  },
  {
   "cell_type": "code",
   "execution_count": 1,
   "metadata": {},
   "outputs": [],
   "source": [
    "import re\n",
    "filepath='textFiles/contact.txt'\n",
    "def isvalidname(name):\n",
    "    if re.search('^[a-zA-Z ]{3,20}$',name):\n",
    "        return True\n",
    "    return False\n",
    "\n",
    "# isvalidname('Naga Manasa')"
   ]
  },
  {
   "cell_type": "code",
   "execution_count": 2,
   "metadata": {},
   "outputs": [],
   "source": [
    "import re\n",
    "filepath='textfile/contact.txt'\n",
    "def isvalidname(name):\n",
    "    if re.search('^[a-zA-Z ]{3,20}$',name):\n",
    "        return True\n",
    "    return False\n",
    "\n",
    "def isvalidphno(m_no):\n",
    "    if re.search('^[6-9][0-9]{9}$',m_no):\n",
    "        return True\n",
    "    return False\n",
    "# isvalidphno('6234567890')"
   ]
  },
  {
   "cell_type": "code",
   "execution_count": 10,
   "metadata": {},
   "outputs": [
    {
     "name": "stdout",
     "output_type": "stream",
     "text": [
      "enter name:manasa\n",
      "enter mobile no:9290417611\n",
      "Contact saved successfully\n"
     ]
    }
   ],
   "source": [
    "import re\n",
    "filepath='textFiles/contact.txt'\n",
    "def isvalidname(name):\n",
    "    if re.search('^[a-zA-Z ]{3,20}$',name):\n",
    "        return True\n",
    "    return False\n",
    "\n",
    "def isvalidphno(m_no):\n",
    "    if re.search('^[6-9][0-9]{9}$',m_no):\n",
    "        return True\n",
    "    return False\n",
    "def createcontact(name,phno):\n",
    "    if isvalidname(name) and isvalidphno(phno):\n",
    "        with open(filepath,'a') as fh:\n",
    "            fh.write(\"\\n\"+name+\"\\t\"+phno)\n",
    "            print(\"Contact saved successfully\")\n",
    "    else:\n",
    "        print(\"enter valid name and mobile no\")\n",
    "#     return\n",
    "name=input(\"enter name:\")\n",
    "mobileno=input(\"enter mobile no:\")\n",
    "createcontact(name,mobileno)\n"
   ]
  },
  {
   "cell_type": "code",
   "execution_count": 11,
   "metadata": {},
   "outputs": [
    {
     "name": "stdout",
     "output_type": "stream",
     "text": [
      "\n",
      "sgdfh\t7894561230\n",
      "manasa\t9290417611\n"
     ]
    }
   ],
   "source": [
    "def showcontact(filepath):\n",
    "    with open(filepath) as fh:\n",
    "        print(fh.read())\n",
    "showcontact(filepath)"
   ]
  },
  {
   "cell_type": "code",
   "execution_count": 28,
   "metadata": {},
   "outputs": [
    {
     "name": "stdout",
     "output_type": "stream",
     "text": [
      "enter name:manasa\n",
      "9290417611\n"
     ]
    }
   ],
   "source": [
    "filepath='textFiles/contact.txt'\n",
    "def searchcontact(name):\n",
    "    flag=False\n",
    "    with open(filepath,'r') as fh:\n",
    "        for line in fh:\n",
    "            line = line.split()\n",
    "#             print(line)\n",
    "            if line[0] == name:\n",
    "                print(line[1])\n",
    "                flag=True\n",
    "        if not flag:\n",
    "            print(\"Contact not existed\")\n",
    "name=input(\"enter name:\")\n",
    "searchcontact(name)"
   ]
  },
  {
   "cell_type": "markdown",
   "metadata": {},
   "source": [
    "# Marks\n",
    "- create marks.txt\n",
    "- define a function to create marks using random method\n",
    "- define fun to find all students marks\n",
    "- define fun to find passed students count\n",
    "- define fun to find failed students count\n",
    "- define fun to find students count who got above 80 %age"
   ]
  },
  {
   "cell_type": "code",
   "execution_count": 38,
   "metadata": {},
   "outputs": [
    {
     "data": {
      "text/plain": [
       "81"
      ]
     },
     "execution_count": 38,
     "metadata": {},
     "output_type": "execute_result"
    }
   ],
   "source": [
    "import random\n",
    "score = random.randint(0,100)"
   ]
  },
  {
   "cell_type": "code",
   "execution_count": 4,
   "metadata": {},
   "outputs": [
    {
     "name": "stdout",
     "output_type": "stream",
     "text": [
      "49 87 80 89 74 81 30 69 63 25 28 78 7 94 93 56 75 29 84 78 65 80 22 20 39 7 55 16 54 11 76 36 25 41 88 90 35 88 11 90 87 21 72 98 25 90 3 85 21 68 12 43 96 16 24 27 39 93 65 82 "
     ]
    }
   ],
   "source": [
    "import random as rd\n",
    "file = 'textFiles/marks.txt'\n",
    "def marks():\n",
    "    for i in range(60):\n",
    "        score = rd.randint(0,100)\n",
    "        print(score,end=\" \")\n",
    "        with open(file,'a') as fh:\n",
    "            fh.write(str(score)+\"\\n\")\n",
    "marks()"
   ]
  },
  {
   "cell_type": "code",
   "execution_count": 8,
   "metadata": {},
   "outputs": [
    {
     "name": "stdout",
     "output_type": "stream",
     "text": [
      "total no of students passed is: 39\n"
     ]
    }
   ],
   "source": [
    "file = 'textFiles/marks.txt'\n",
    "def passed():\n",
    "    with open(file,'r') as fh:\n",
    "        c=0\n",
    "        for i in fh:\n",
    "            if int(i) > 35 :\n",
    "                c+=1\n",
    "                \n",
    "    print(\"total no of students passed is:\",c)\n",
    "passed()"
   ]
  },
  {
   "cell_type": "code",
   "execution_count": 10,
   "metadata": {},
   "outputs": [
    {
     "name": "stdout",
     "output_type": "stream",
     "text": [
      "total no of students passed is: 20\n"
     ]
    }
   ],
   "source": [
    "file = 'textFiles/marks.txt'\n",
    "def failed():\n",
    "    with open(file,'r') as fh:\n",
    "        c=0\n",
    "        for i in fh:\n",
    "            if int(i) < 35 :\n",
    "                c+=1\n",
    "                \n",
    "    print(\"total no of students passed is:\",c)\n",
    "failed()"
   ]
  },
  {
   "cell_type": "code",
   "execution_count": 11,
   "metadata": {},
   "outputs": [
    {
     "name": "stdout",
     "output_type": "stream",
     "text": [
      "total no of students got distinction is: 17\n"
     ]
    }
   ],
   "source": [
    "def distinction():\n",
    "    with open(file,'r') as fh:\n",
    "        c=0\n",
    "        for i in fh:\n",
    "            if int(i) > 80 :\n",
    "                c+=1\n",
    "    print(\"total no of students got distinction is:\",c)\n",
    "distinction()"
   ]
  },
  {
   "cell_type": "code",
   "execution_count": null,
   "metadata": {},
   "outputs": [],
   "source": [
    "def allmarks():\n",
    "    "
   ]
  }
 ],
 "metadata": {
  "kernelspec": {
   "display_name": "Python 3",
   "language": "python",
   "name": "python3"
  },
  "language_info": {
   "codemirror_mode": {
    "name": "ipython",
    "version": 3
   },
   "file_extension": ".py",
   "mimetype": "text/x-python",
   "name": "python",
   "nbconvert_exporter": "python",
   "pygments_lexer": "ipython3",
   "version": "3.7.3"
  }
 },
 "nbformat": 4,
 "nbformat_minor": 2
}
